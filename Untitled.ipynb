{
 "cells": [
  {
   "cell_type": "code",
   "execution_count": 41,
   "metadata": {},
   "outputs": [
    {
     "data": {
      "text/plain": [
       "[(0.45786900988355456, 'English-Latin1'),\n",
       " (0.25, 'French_Francais-Latin1'),\n",
       " (0.25297619047619047, 'Spanish-Latin1'),\n",
       " (0.265625, 'Italian-Latin1'),\n",
       " (0.2645062800254674, 'German_Deutsch-Latin1')]"
      ]
     },
     "execution_count": 41,
     "metadata": {},
     "output_type": "execute_result"
    }
   ],
   "source": [
    "import nltk\n",
    "\n",
    "from nltk.corpus import udhr\n",
    "\n",
    "LANGUAGES = [ \n",
    "    \"English-Latin1\", \n",
    "    \"French_Francais-Latin1\",\n",
    "    \"Spanish-Latin1\",\n",
    "    \"Italian-Latin1\",\n",
    "    \"German_Deutsch-Latin1\"\n",
    "]\n",
    "\n",
    "\n",
    "def makeTrigrams(words):\n",
    "    return nltk.trigrams(\"$$\" + \"$$\".join((w.lower() for w in words if w.isalpha() )) + \"$$\")\n",
    "\n",
    "\n",
    "def createTrigramGrammar(trigrams):\n",
    "    conditions = ( ((a, b), c) for a, b, c in trigrams )\n",
    "    return nltk.ConditionalFreqDist(conditions)\n",
    "\n",
    "\n",
    "def wordProb(word, grammar):\n",
    "    assert word.isalpha()\n",
    "    word = \"$$\" + word.lower() + \"$$\"\n",
    "    \n",
    "    p = 1.0\n",
    "    for a, b, c in nltk.trigrams(word):\n",
    "        p += grammar[(a, b)].freq(c)\n",
    "    return p / len(word)\n",
    "\n",
    "\n",
    "def predictLanguage(word, grammars):\n",
    "    return [ ( wordProb(word, grammar), lang ) for lang, grammar in grammars ]\n",
    "\n",
    "\n",
    "def predictSentLanguage(sent, grammars):\n",
    "    return [ ( sum([ wordProb(word, grammar) for word in sent ]) / len(sent), lang ) for lang, grammar in grammars ] \n",
    "\n",
    "\n",
    "all_trigrams = [ (lang, makeTrigrams(udhr.words(lang))) for lang in LANGUAGES ]\n",
    "trigram_grammars = [ (lang, createTrigramGrammar(trigrams)) for lang, trigrams in all_trigrams ]\n",
    "\n",
    "predictLanguage('wood', trigram_grammars)"
   ]
  }
 ],
 "metadata": {
  "kernelspec": {
   "display_name": "Python 3",
   "language": "python",
   "name": "python3"
  },
  "language_info": {
   "codemirror_mode": {
    "name": "ipython",
    "version": 3
   },
   "file_extension": ".py",
   "mimetype": "text/x-python",
   "name": "python",
   "nbconvert_exporter": "python",
   "pygments_lexer": "ipython3",
   "version": "3.6.1"
  }
 },
 "nbformat": 4,
 "nbformat_minor": 2
}

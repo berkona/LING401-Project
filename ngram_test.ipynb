{
 "cells": [
  {
   "cell_type": "code",
   "execution_count": null,
   "metadata": {},
   "outputs": [
    {
     "name": "stdout",
     "output_type": "stream",
     "text": [
      "Training data created\n"
     ]
    }
   ],
   "source": [
    "from ngram_classifier import NGramClassifier\n",
    "\n",
    "from nltk.corpus import udhr\n",
    "\n",
    "LANGUAGES = [ lang for lang in udhr.fileids() if lang.endswith(\"-Latin1\") ]\n",
    "\n",
    "def accuracy(classifier, language):\n",
    "    words = set( word.lower() for word in udhr.words(language) if word.isalpha() )\n",
    "    correct = 0\n",
    "    n = 0\n",
    "    for word in words:\n",
    "        correct += 1 if max(classifier.classifyWord(word))[1] == language else 0\n",
    "        n += 1\n",
    "    return float(correct) / float(n)\n",
    "\n",
    "\n",
    "import pandas as pd\n",
    "\n",
    "test_langs = [ \n",
    "    \"English-Latin1\", \n",
    "    \"French_Francais-Latin1\",\n",
    "    \"Spanish-Latin1\",\n",
    "    \"Italian-Latin1\",\n",
    "    \"German_Deutsch-Latin1\"\n",
    "]\n",
    "\n",
    "results = pd.DataFrame()\n",
    "\n",
    "training_data = [ ( lang, udhr.words(lang) ) for lang in LANGUAGES ]\n",
    "\n",
    "print(\"Training data created\")\n",
    "\n",
    "classifiers = [ NGramClassifier(i, training_data) for i in range(2, 10) ]\n",
    "\n",
    "print(\"Classifiers created\")\n",
    "\n",
    "for lang in test_langs:\n",
    "    print(\"Testing accuracy by n for\", lang)\n",
    "    accuracy_by_n = [ accuracy(classifier, lang) for classifier in classifiers ]\n",
    "    results[lang] = pd.Series(data=accuracy_by_n, index=range(2, 10))\n",
    "\n",
    "results.plot()\n",
    "plt.show()"
   ]
  }
 ],
 "metadata": {
  "kernelspec": {
   "display_name": "Python 3",
   "language": "python",
   "name": "python3"
  },
  "language_info": {
   "codemirror_mode": {
    "name": "ipython",
    "version": 3
   },
   "file_extension": ".py",
   "mimetype": "text/x-python",
   "name": "python",
   "nbconvert_exporter": "python",
   "pygments_lexer": "ipython3",
   "version": "3.6.1"
  }
 },
 "nbformat": 4,
 "nbformat_minor": 2
}

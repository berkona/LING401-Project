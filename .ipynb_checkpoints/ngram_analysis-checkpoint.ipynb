{
 "cells": [
  {
   "cell_type": "code",
   "execution_count": 1,
   "metadata": {},
   "outputs": [
    {
     "ename": "ModuleNotFoundError",
     "evalue": "No module named 'bigram_grammar'",
     "output_type": "error",
     "traceback": [
      "\u001b[0;31m---------------------------------------------------------------------------\u001b[0m",
      "\u001b[0;31mModuleNotFoundError\u001b[0m                       Traceback (most recent call last)",
      "\u001b[0;32m<ipython-input-1-8f4be85226ef>\u001b[0m in \u001b[0;36m<module>\u001b[0;34m()\u001b[0m\n\u001b[1;32m      1\u001b[0m \u001b[0;32mimport\u001b[0m \u001b[0mpandas\u001b[0m \u001b[0;32mas\u001b[0m \u001b[0mpd\u001b[0m\u001b[0;34m\u001b[0m\u001b[0m\n\u001b[1;32m      2\u001b[0m \u001b[0;32mimport\u001b[0m \u001b[0mmatplotlib\u001b[0m\u001b[0;34m.\u001b[0m\u001b[0mpyplot\u001b[0m \u001b[0;32mas\u001b[0m \u001b[0mplt\u001b[0m\u001b[0;34m\u001b[0m\u001b[0m\n\u001b[0;32m----> 3\u001b[0;31m \u001b[0;32mfrom\u001b[0m \u001b[0mbigram_grammar\u001b[0m \u001b[0;32mimport\u001b[0m \u001b[0maccuracy\u001b[0m\u001b[0;34m\u001b[0m\u001b[0m\n\u001b[0m\u001b[1;32m      4\u001b[0m \u001b[0;32mimport\u001b[0m \u001b[0mre\u001b[0m\u001b[0;34m\u001b[0m\u001b[0m\n\u001b[1;32m      5\u001b[0m \u001b[0;34m\u001b[0m\u001b[0m\n",
      "\u001b[0;31mModuleNotFoundError\u001b[0m: No module named 'bigram_grammar'"
     ]
    }
   ],
   "source": [
    "import pandas as pd\n",
    "import matplotlib.pyplot as plt\n",
    "from ngram_trial import accuracy\n",
    "import re\n",
    "\n",
    "biased = pd.DataFrame.from_csv('ngram_results/biased_trial.csv')\n",
    "unbiased = pd.DataFrame.from_csv('ngram_results/unbiased_trial.csv')\n",
    "sent = pd.DataFrame.from_csv('ngram_results/sent_trial.csv')\n",
    "length = pd.DataFrame.from_csv('ngram_results/length_trial.csv')\n",
    "\n",
    "def tweakAccuracy(data):\n",
    "    data.index.name = 'Language'\n",
    "    data.index = data.index.map(lambda x: re.match(\"([a-zA-Z]+)(\\w+)?-\\w+\", x)[1])\n",
    "    return data\n",
    "\n",
    "def tweakDist(data):\n",
    "    data.columns = data.columns.map(lambda x: re.match(\"([a-zA-Z]+)(\\w+)?-\\w+\", x)[1] if re.match(\"([a-zA-Z]+)(\\w+)?-\\w+\", x) else x)\n",
    "    return data\n",
    "\n",
    "def createChart(data, fname, kind='bar', title=None):\n",
    "    data.plot(kind=kind)\n",
    "    if title is not None:\n",
    "        plt.title(title)\n",
    "    plt.savefig(fname)\n",
    "    return plt.show()"
   ]
  },
  {
   "cell_type": "markdown",
   "metadata": {},
   "source": [
    "# Biased Accuracy"
   ]
  },
  {
   "cell_type": "code",
   "execution_count": null,
   "metadata": {
    "scrolled": true
   },
   "outputs": [],
   "source": [
    "createChart(tweakAccuracy(accuracy(biased)), \"ngram_results/biased_accuracy.png\", title=\"Accuracy - Biased Trial\")"
   ]
  },
  {
   "cell_type": "markdown",
   "metadata": {},
   "source": [
    "# Unbiased Accuracy"
   ]
  },
  {
   "cell_type": "code",
   "execution_count": null,
   "metadata": {},
   "outputs": [],
   "source": [
    "createChart(tweakAccuracy(accuracy(unbiased)), \"ngram_results/unbiased_accuracy.png\", title=\"Accuracy - Unbiased Trial\")"
   ]
  },
  {
   "cell_type": "markdown",
   "metadata": {},
   "source": [
    "# Sentence Accuracy"
   ]
  },
  {
   "cell_type": "code",
   "execution_count": null,
   "metadata": {},
   "outputs": [],
   "source": [
    "createChart(tweakAccuracy(accuracy(sent)), \"ngram_results/sent_accuracy.png\", title=\"Accuracy - Sentence Trial\")"
   ]
  },
  {
   "cell_type": "markdown",
   "metadata": {},
   "source": [
    "# English - Biased Prediction Distributions"
   ]
  },
  {
   "cell_type": "code",
   "execution_count": null,
   "metadata": {
    "scrolled": true
   },
   "outputs": [],
   "source": [
    "english = biased[biased['Expected'] == 'English-Latin1']\n",
    "createChart(tweakDist(english), \"ngram_results/biased_dist.png\", kind=\"box\", title=\"Biased Prediction Distribution for English\")"
   ]
  },
  {
   "cell_type": "markdown",
   "metadata": {},
   "source": [
    "# English - Unbiased Prediction Distributions"
   ]
  },
  {
   "cell_type": "code",
   "execution_count": null,
   "metadata": {
    "scrolled": true
   },
   "outputs": [],
   "source": [
    "english = unbiased[unbiased['Expected'] == 'English-Latin1']\n",
    "createChart(tweakDist(english), \"ngram_results/unbiased_dist.png\", kind=\"box\", title=\"Unbiased Prediction Distribution for English\")"
   ]
  },
  {
   "cell_type": "markdown",
   "metadata": {},
   "source": [
    "# English - Sentence Prediction Distributions"
   ]
  },
  {
   "cell_type": "code",
   "execution_count": null,
   "metadata": {
    "scrolled": true
   },
   "outputs": [],
   "source": [
    "english = sent[sent['Expected'] == 'English-Latin1']\n",
    "createChart(tweakDist(english), \"ngram_results/sent_dist.png\", kind=\"box\", title=\"Sentence Prediction Distribution for English\")"
   ]
  },
  {
   "cell_type": "markdown",
   "metadata": {},
   "source": [
    "# English - Accuracy by Length"
   ]
  },
  {
   "cell_type": "code",
   "execution_count": null,
   "metadata": {
    "scrolled": true
   },
   "outputs": [],
   "source": [
    "english = length[length['Language'] == 'English-Latin1']\n",
    "length_acc = pd.Series(index=english['Length'].get_values(), data=english['Accuracy'].get_values()).sort_index()\n",
    "\n",
    "# length_acc\n",
    "\n",
    "createChart(length_acc, \"ngram_results/english_length_accuracy.png\", kind=\"bar\", title=\"Accuracy by Length for English\")"
   ]
  },
  {
   "cell_type": "markdown",
   "metadata": {},
   "source": [
    "# Spanish - Accuracy by Length"
   ]
  },
  {
   "cell_type": "code",
   "execution_count": null,
   "metadata": {
    "scrolled": false
   },
   "outputs": [],
   "source": [
    "spanish = length[length['Language'] == 'Spanish-Latin1']\n",
    "length_acc = pd.Series(index=spanish['Length'].get_values(), data=spanish['Accuracy'].get_values()).sort_index()\n",
    "\n",
    "# length_acc\n",
    "\n",
    "createChart(length_acc, \"ngram_results/spanish_length_accuracy.png\", kind=\"bar\", title=\"Accuracy by Length for Spanish\")"
   ]
  },
  {
   "cell_type": "markdown",
   "metadata": {},
   "source": [
    "# French - Accuracy by Length"
   ]
  },
  {
   "cell_type": "code",
   "execution_count": null,
   "metadata": {
    "scrolled": false
   },
   "outputs": [],
   "source": [
    "french = length[length['Language'] == 'French_Francais-Latin1']\n",
    "length_acc = pd.Series(index=french['Length'].get_values(), data=french['Accuracy'].get_values()).sort_index()\n",
    "\n",
    "# length_acc\n",
    "\n",
    "createChart(length_acc, \"ngram_results/french_length_accuracy.png\", kind=\"bar\", title=\"Accuracy by Length for French\")"
   ]
  },
  {
   "cell_type": "markdown",
   "metadata": {},
   "source": [
    "# Italian - Accuracy by Length"
   ]
  },
  {
   "cell_type": "code",
   "execution_count": null,
   "metadata": {
    "scrolled": true
   },
   "outputs": [],
   "source": [
    "italian = length[length['Language'] == 'Italian-Latin1']\n",
    "length_acc = pd.Series(index=italian['Length'].get_values(), data=italian['Accuracy'].get_values()).sort_index()\n",
    "\n",
    "# length_acc\n",
    "\n",
    "createChart(length_acc, \"ngram_results/italian_length_accuracy.png\", kind=\"bar\", title=\"Accuracy by Length for Italian\")"
   ]
  },
  {
   "cell_type": "markdown",
   "metadata": {},
   "source": [
    "# German - Accuracy by Length"
   ]
  },
  {
   "cell_type": "code",
   "execution_count": null,
   "metadata": {
    "scrolled": false
   },
   "outputs": [],
   "source": [
    "german = length[length['Language'] == 'German_Deutsch-Latin1']\n",
    "length_acc = pd.Series(index=german['Length'].get_values(), data=german['Accuracy'].get_values()).sort_index()\n",
    "\n",
    "# length_acc\n",
    "\n",
    "createChart(length_acc, \"ngram_results/german_length_accuracy.png\", kind=\"bar\", title=\"Accuracy by Length for German\")"
   ]
  }
 ],
 "metadata": {
  "kernelspec": {
   "display_name": "Python 3",
   "language": "python",
   "name": "python3"
  },
  "language_info": {
   "codemirror_mode": {
    "name": "ipython",
    "version": 3
   },
   "file_extension": ".py",
   "mimetype": "text/x-python",
   "name": "python",
   "nbconvert_exporter": "python",
   "pygments_lexer": "ipython3",
   "version": "3.6.1"
  }
 },
 "nbformat": 4,
 "nbformat_minor": 2
}
